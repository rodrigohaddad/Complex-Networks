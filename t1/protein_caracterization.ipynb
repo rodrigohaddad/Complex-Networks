{
 "cells": [
  {
   "cell_type": "markdown",
   "source": [
    "### Protein"
   ],
   "metadata": {
    "collapsed": false
   }
  },
  {
   "cell_type": "code",
   "execution_count": 1,
   "outputs": [],
   "source": [
    "import networkx as nx\n",
    "import numpy as np\n",
    "import matplotlib.pyplot as plt\n",
    "import seaborn as sns\n",
    "import statistics\n",
    "import pandas as pd"
   ],
   "metadata": {
    "collapsed": false,
    "pycharm": {
     "name": "#%%\n"
    }
   }
  },
  {
   "cell_type": "code",
   "execution_count": 2,
   "outputs": [],
   "source": [
    "G = nx.read_edgelist('networks/protein.edgelist.txt', create_using=nx.Graph(), nodetype=int)"
   ],
   "metadata": {
    "collapsed": false,
    "pycharm": {
     "name": "#%%\n"
    }
   }
  },
  {
   "cell_type": "code",
   "execution_count": 3,
   "outputs": [
    {
     "name": "stdout",
     "output_type": "stream",
     "text": [
      "Number of nodes: 2018\n",
      "Number of edges: 2930\n",
      "Connected graph: False\n",
      "Connected components: 185\n"
     ]
    }
   ],
   "source": [
    "# distribuição empírica (faça um gráfico com\n",
    "# as diferentes redes).\n",
    "\n",
    "n_V = G.number_of_nodes()\n",
    "n_E = G.number_of_edges()\n",
    "print(f\"Number of nodes: {n_V}\")\n",
    "print(f\"Number of edges: {n_E}\")\n",
    "print(f\"Connected graph: {nx.is_connected(G)}\")\n",
    "print(f\"Connected components: {nx.number_connected_components(G)}\")"
   ],
   "metadata": {
    "collapsed": false,
    "pycharm": {
     "name": "#%%\n"
    }
   }
  },
  {
   "cell_type": "code",
   "execution_count": 4,
   "outputs": [
    {
     "name": "stdout",
     "output_type": "stream",
     "text": [
      "Max: 91\n",
      "Min: 1\n",
      "Mean: 2.9038652130822595\n",
      "Median: 2.0\n",
      "Std: 4.881923426132511\n"
     ]
    }
   ],
   "source": [
    "# Degree\n",
    "degrees = np.array([int(dg) for (node, dg) in G.degree()])\n",
    "print(f\"Max: {degrees.max()}\")\n",
    "print(f\"Min: {degrees.min()}\")\n",
    "print(f\"Mean: {degrees.mean()}\")\n",
    "print(f\"Median: {np.median(degrees)}\")\n",
    "print(f\"Std: {degrees.std()}\")\n"
   ],
   "metadata": {
    "collapsed": false,
    "pycharm": {
     "name": "#%%\n"
    }
   }
  },
  {
   "cell_type": "code",
   "execution_count": 5,
   "outputs": [
    {
     "name": "stdout",
     "output_type": "stream",
     "text": [
      "Max: 14\n",
      "Min: 1\n",
      "Mean: 5.6109290866980395\n",
      "Median: 6.0\n",
      "Std: 1.646376867828377\n"
     ]
    }
   ],
   "source": [
    "# Distance\n",
    "if nx.is_connected(G):\n",
    "    d_mean = nx.average_shortest_path_length(G)\n",
    "    print(f\"{d_mean}\")\n",
    "\n",
    "dist = dict(nx.all_pairs_shortest_path_length(G))\n",
    "distas = list()\n",
    "for i in dist.values():\n",
    "    distas = distas+list(i.values())\n",
    "distas = np.array(distas)\n",
    "distas = distas[distas != 0]\n",
    "print(f\"Max: {distas.max()}\")\n",
    "print(f\"Min: {distas.min()}\")\n",
    "print(f\"Mean: {distas.mean()}\")\n",
    "print(f\"Median: {np.median(distas)}\")\n",
    "print(f\"Std: {distas.std()}\")"
   ],
   "metadata": {
    "collapsed": false,
    "pycharm": {
     "name": "#%%\n"
    }
   }
  },
  {
   "cell_type": "code",
   "execution_count": 6,
   "outputs": [
    {
     "name": "stdout",
     "output_type": "stream",
     "text": [
      "N connected components: 185\n",
      "Max: 1647\n",
      "Min: 1\n",
      "Mean: 10.908108108108108\n",
      "Median: 2.0\n",
      "Std: 120.61745285927152\n"
     ]
    }
   ],
   "source": [
    "# Connected components\n",
    "print(f\"N connected components: {nx.number_connected_components(G)}\")\n",
    "cc = np.array([len(c) for c in nx.connected_components(G)])\n",
    "print(f\"Max: {cc.max()}\")\n",
    "print(f\"Min: {cc.min()}\")\n",
    "print(f\"Mean: {cc.mean()}\")\n",
    "print(f\"Median: {np.median(cc)}\")\n",
    "print(f\"Std: {cc.std()}\")"
   ],
   "metadata": {
    "collapsed": false,
    "pycharm": {
     "name": "#%%\n"
    }
   }
  },
  {
   "cell_type": "code",
   "execution_count": 7,
   "outputs": [
    {
     "name": "stdout",
     "output_type": "stream",
     "text": [
      "Max: 1.0\n",
      "Min: 0.0\n",
      "Mean: 0.046194001297365124\n",
      "Median: 0.0\n",
      "Std: 0.17603114068332915\n",
      "Global: 0.02361415364051535\n"
     ]
    }
   ],
   "source": [
    "# Cluster\n",
    "cluster = np.array(list(nx.clustering(G).values()))\n",
    "print(f\"Max: {cluster.max()}\")\n",
    "print(f\"Min: {cluster.min()}\")\n",
    "print(f\"Mean: {cluster.mean()}\")\n",
    "print(f\"Median: {np.median(cluster)}\")\n",
    "print(f\"Std: {cluster.std()}\")\n",
    "print(f\"Global: {nx.transitivity(G)}\")"
   ],
   "metadata": {
    "collapsed": false,
    "pycharm": {
     "name": "#%%\n"
    }
   }
  },
  {
   "cell_type": "code",
   "execution_count": 8,
   "outputs": [
    {
     "name": "stdout",
     "output_type": "stream",
     "text": [
      "Max: 0.0451165096678235\n",
      "Min: 0.0004957858205255329\n",
      "Mean: 0.0014396951973635397\n",
      "Median: 0.0009915716410510659\n",
      "Std: 0.0024203884115679276\n"
     ]
    }
   ],
   "source": [
    "# Degree centrality\n",
    "dc = np.array(list(nx.degree_centrality(G).values()))\n",
    "print(f\"Max: {dc.max()}\")\n",
    "print(f\"Min: {dc.min()}\")\n",
    "print(f\"Mean: {dc.mean()}\")\n",
    "print(f\"Median: {np.median(dc)}\")\n",
    "print(f\"Std: {dc.std()}\")"
   ],
   "metadata": {
    "collapsed": false,
    "pycharm": {
     "name": "#%%\n"
    }
   }
  },
  {
   "cell_type": "code",
   "execution_count": 9,
   "outputs": [
    {
     "name": "stdout",
     "output_type": "stream",
     "text": [
      "Max: 0.18151976215555363\n",
      "Min: 0.0\n",
      "Mean: 0.0015236220900641463\n",
      "Median: 0.0\n",
      "Std: 0.006881556812597941\n"
     ]
    }
   ],
   "source": [
    "# Betweeness centrality\n",
    "bc = np.array(list(nx.betweenness_centrality(G).values()))\n",
    "print(f\"Max: {bc.max()}\")\n",
    "print(f\"Min: {bc.min()}\")\n",
    "print(f\"Mean: {bc.mean()}\")\n",
    "print(f\"Median: {np.median(bc)}\")\n",
    "print(f\"Std: {bc.std()}\")"
   ],
   "metadata": {
    "collapsed": false,
    "pycharm": {
     "name": "#%%\n"
    }
   }
  },
  {
   "cell_type": "code",
   "execution_count": 10,
   "outputs": [
    {
     "name": "stdout",
     "output_type": "stream",
     "text": [
      "Max: 0.24498275690734178\n",
      "Min: 0.0\n",
      "Mean: 0.1224292730964651\n",
      "Median: 0.14145329150410224\n",
      "Std: 0.06225392075786067\n"
     ]
    }
   ],
   "source": [
    "# Closeness centrality\n",
    "cloc = np.array(list(nx.closeness_centrality(G).values()))\n",
    "print(f\"Max: {cloc.max()}\")\n",
    "print(f\"Min: {cloc.min()}\")\n",
    "print(f\"Mean: {cloc.mean()}\")\n",
    "print(f\"Median: {np.median(cloc)}\")\n",
    "print(f\"Std: {cloc.std()}\")"
   ],
   "metadata": {
    "collapsed": false,
    "pycharm": {
     "name": "#%%\n"
    }
   }
  },
  {
   "cell_type": "code",
   "execution_count": 11,
   "outputs": [
    {
     "name": "stdout",
     "output_type": "stream",
     "text": [
      "Max: 0.4654668822552674\n",
      "Min: 4.323660793748502e-25\n",
      "Mean: 0.006895226561824924\n",
      "Median: 0.0005193122373762252\n",
      "Std: 0.021165915747076533\n"
     ]
    }
   ],
   "source": [
    "# Eigenvector centrality\n",
    "ec = np.array(list(nx.eigenvector_centrality(G).values()))\n",
    "print(f\"Max: {ec.max()}\")\n",
    "print(f\"Min: {ec.min()}\")\n",
    "print(f\"Mean: {ec.mean()}\")\n",
    "print(f\"Median: {np.median(ec)}\")\n",
    "print(f\"Std: {ec.std()}\")"
   ],
   "metadata": {
    "collapsed": false,
    "pycharm": {
     "name": "#%%\n"
    }
   }
  },
  {
   "cell_type": "code",
   "execution_count": 12,
   "outputs": [
    {
     "name": "stdout",
     "output_type": "stream",
     "text": [
      "Max: 0.5319081422199433\n",
      "Min: -0.19770818666474355\n",
      "Mean: 0.0050298731757291255\n",
      "Median: 0.0012864590315586546\n",
      "Std: 0.021685029734526986\n"
     ]
    }
   ],
   "source": [
    "# Katz centrality\n",
    "kc = np.array(list(nx.katz_centrality_numpy(G).values()))\n",
    "print(f\"Max: {kc.max()}\")\n",
    "print(f\"Min: {kc.min()}\")\n",
    "print(f\"Mean: {kc.mean()}\")\n",
    "print(f\"Median: {np.median(kc)}\")\n",
    "print(f\"Std: {kc.std()}\")"
   ],
   "metadata": {
    "collapsed": false,
    "pycharm": {
     "name": "#%%\n"
    }
   }
  },
  {
   "cell_type": "code",
   "execution_count": 13,
   "outputs": [
    {
     "name": "stdout",
     "output_type": "stream",
     "text": [
      "Max: 0.01020159326747166\n",
      "Min: 0.00016335709439221495\n",
      "Mean: 0.0004955401387512388\n",
      "Median: 0.0003840031352760571\n",
      "Std: 0.0005809020165672083\n"
     ]
    }
   ],
   "source": [
    "# PageRank centrality\n",
    "pr = np.array(list(nx.pagerank(G).values()))\n",
    "print(f\"Max: {pr.max()}\")\n",
    "print(f\"Min: {pr.min()}\")\n",
    "print(f\"Mean: {pr.mean()}\")\n",
    "print(f\"Median: {np.median(pr)}\")\n",
    "print(f\"Std: {pr.std()}\")"
   ],
   "metadata": {
    "collapsed": false,
    "pycharm": {
     "name": "#%%\n"
    }
   }
  },
  {
   "cell_type": "code",
   "execution_count": 14,
   "outputs": [
    {
     "name": "stdout",
     "output_type": "stream",
     "text": [
      "Max: 2017\n",
      "Min: 6\n",
      "Mean: 986.5324189526184\n",
      "Median: 959.5\n",
      "Std: 576.7896854299131\n"
     ]
    }
   ],
   "source": [
    "# VoteRank centrality\n",
    "vr = np.array(nx.voterank(G))\n",
    "print(f\"Max: {vr.max()}\")\n",
    "print(f\"Min: {vr.min()}\")\n",
    "print(f\"Mean: {vr.mean()}\")\n",
    "print(f\"Median: {np.median(vr)}\")\n",
    "print(f\"Std: {vr.std()}\")"
   ],
   "metadata": {
    "collapsed": false,
    "pycharm": {
     "name": "#%%\n"
    }
   }
  },
  {
   "cell_type": "code",
   "execution_count": 15,
   "outputs": [
    {
     "name": "stdout",
     "output_type": "stream",
     "text": [
      "Max: 1.0\n",
      "Min: 0.0\n",
      "Mean: 0.0024313333912945635\n",
      "Median: 0.0\n",
      "Std: 0.033385140219770904\n"
     ]
    }
   ],
   "source": [
    "# Jaccard similarity\n",
    "jaccard = np.array(list(p for (u, v, p) in nx.jaccard_coefficient(G)))\n",
    "print(f\"Max: {jaccard.max()}\")\n",
    "print(f\"Min: {jaccard.min()}\")\n",
    "print(f\"Mean: {jaccard.mean()}\")\n",
    "print(f\"Median: {np.median(jaccard)}\")\n",
    "print(f\"Std: {jaccard.std()}\")\n"
   ],
   "metadata": {
    "collapsed": false,
    "pycharm": {
     "name": "#%%\n"
    }
   }
  },
  {
   "cell_type": "code",
   "execution_count": 16,
   "outputs": [
    {
     "name": "stdout",
     "output_type": "stream",
     "text": [
      "Max: 14.30304051308118\n",
      "Min: 0.0\n",
      "Mean: 0.004368381235791592\n",
      "Median: 0.0\n",
      "Std: 0.05574718405356366\n"
     ]
    }
   ],
   "source": [
    "# Coefficient Adamic/Adar\n",
    "caa = np.array(list(p for (u, v, p) in nx.adamic_adar_index(G)))\n",
    "print(f\"Max: {caa.max()}\")\n",
    "print(f\"Min: {caa.min()}\")\n",
    "print(f\"Mean: {caa.mean()}\")\n",
    "print(f\"Median: {np.median(caa)}\")\n",
    "print(f\"Std: {caa.std()}\")"
   ],
   "metadata": {
    "collapsed": false,
    "pycharm": {
     "name": "#%%\n"
    }
   }
  }
 ],
 "metadata": {
  "kernelspec": {
   "name": "pycharm-519413d",
   "language": "python",
   "display_name": "PyCharm (Complex-Networks)"
  },
  "language_info": {
   "codemirror_mode": {
    "name": "ipython",
    "version": 2
   },
   "file_extension": ".py",
   "mimetype": "text/x-python",
   "name": "python",
   "nbconvert_exporter": "python",
   "pygments_lexer": "ipython2",
   "version": "2.7.6"
  }
 },
 "nbformat": 4,
 "nbformat_minor": 0
}