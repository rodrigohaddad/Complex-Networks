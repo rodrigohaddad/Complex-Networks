{
 "cells": [
  {
   "cell_type": "markdown",
   "source": [
    "### Hospital"
   ],
   "metadata": {
    "collapsed": false
   }
  },
  {
   "cell_type": "code",
   "execution_count": 1,
   "outputs": [],
   "source": [
    "import networkx as nx\n",
    "import numpy as np\n",
    "import matplotlib.pyplot as plt\n",
    "import seaborn as sns\n",
    "import statistics\n",
    "import pandas as pd"
   ],
   "metadata": {
    "collapsed": false,
    "pycharm": {
     "name": "#%%\n"
    }
   }
  },
  {
   "cell_type": "code",
   "execution_count": 2,
   "outputs": [],
   "source": [
    "df = pd.read_csv(\"networks/detailed_list_of_contacts_Hospital.dat\",\n",
    "                 delim_whitespace=True,\n",
    "                 index_col=0)\n",
    "G = nx.from_pandas_edgelist(df=df,\n",
    "                            source=\"i\",\n",
    "                            target=\"j\",\n",
    "                            edge_attr=[\"Si\", \"Sj\"]\n",
    "                            )"
   ],
   "metadata": {
    "collapsed": false,
    "pycharm": {
     "name": "#%%\n"
    }
   }
  },
  {
   "cell_type": "code",
   "execution_count": 3,
   "outputs": [
    {
     "name": "stdout",
     "output_type": "stream",
     "text": [
      "Number of nodes: 75\n",
      "Number of edges: 1139\n",
      "Connected graph: True\n",
      "Connected components: 1\n"
     ]
    }
   ],
   "source": [
    "# distribuição empírica (faça um gráfico com\n",
    "# as diferentes redes).\n",
    "\n",
    "n_V = G.number_of_nodes()\n",
    "n_E = G.number_of_edges()\n",
    "print(f\"Number of nodes: {n_V}\")\n",
    "print(f\"Number of edges: {n_E}\")\n",
    "print(f\"Connected graph: {nx.is_connected(G)}\")\n",
    "print(f\"Connected components: {nx.number_connected_components(G)}\")"
   ],
   "metadata": {
    "collapsed": false,
    "pycharm": {
     "name": "#%%\n"
    }
   }
  },
  {
   "cell_type": "code",
   "execution_count": 4,
   "outputs": [
    {
     "name": "stdout",
     "output_type": "stream",
     "text": [
      "Max: 61\n",
      "Min: 6\n",
      "Mean: 30.373333333333335\n",
      "Median: 27.0\n",
      "Std: 15.017122079664784\n"
     ]
    }
   ],
   "source": [
    "# Degree\n",
    "degrees = np.array([int(dg) for (node, dg) in G.degree()])\n",
    "print(f\"Max: {degrees.max()}\")\n",
    "print(f\"Min: {degrees.min()}\")\n",
    "print(f\"Mean: {degrees.mean()}\")\n",
    "print(f\"Median: {np.median(degrees)}\")\n",
    "print(f\"Std: {degrees.std()}\")\n"
   ],
   "metadata": {
    "collapsed": false,
    "pycharm": {
     "name": "#%%\n"
    }
   }
  },
  {
   "cell_type": "code",
   "execution_count": 26,
   "outputs": [
    {
     "name": "stdout",
     "output_type": "stream",
     "text": [
      "1.597837837837838\n",
      "Max: 3\n",
      "Min: 1\n",
      "Mean: 1.597837837837838\n",
      "Median: 2.0\n",
      "Std: 0.5069559488395353\n"
     ]
    }
   ],
   "source": [
    "# Distance\n",
    "if nx.is_connected(G):\n",
    "    d_mean = nx.average_shortest_path_length(G)\n",
    "    print(f\"{d_mean}\")\n",
    "\n",
    "dist = dict(nx.all_pairs_shortest_path_length(G))\n",
    "distas = list()\n",
    "for i in dist.values():\n",
    "    distas = distas+list(i.values())\n",
    "distas = np.array(distas)\n",
    "distas = distas[distas != 0]\n",
    "print(f\"Max: {distas.max()}\")\n",
    "print(f\"Min: {distas.min()}\")\n",
    "print(f\"Mean: {distas.mean()}\")\n",
    "print(f\"Median: {np.median(distas)}\")\n",
    "print(f\"Std: {distas.std()}\")"
   ],
   "metadata": {
    "collapsed": false,
    "pycharm": {
     "name": "#%%\n"
    }
   }
  },
  {
   "cell_type": "code",
   "execution_count": 7,
   "outputs": [
    {
     "name": "stdout",
     "output_type": "stream",
     "text": [
      "N connected components: 1\n",
      "Max: 75\n",
      "Min: 75\n",
      "Mean: 75.0\n",
      "Median: 75.0\n",
      "Std: 0.0\n"
     ]
    }
   ],
   "source": [
    "# Connected components\n",
    "print(f\"N connected components: {nx.number_connected_components(G)}\")\n",
    "cc = np.array([len(c) for c in nx.connected_components(G)])\n",
    "print(f\"Max: {cc.max()}\")\n",
    "print(f\"Min: {cc.min()}\")\n",
    "print(f\"Mean: {cc.mean()}\")\n",
    "print(f\"Median: {np.median(cc)}\")\n",
    "print(f\"Std: {cc.std()}\")"
   ],
   "metadata": {
    "collapsed": false,
    "pycharm": {
     "name": "#%%\n"
    }
   }
  },
  {
   "cell_type": "code",
   "execution_count": 8,
   "outputs": [
    {
     "name": "stdout",
     "output_type": "stream",
     "text": [
      "Max: 0.9555555555555556\n",
      "Min: 0.21666666666666667\n",
      "Mean: 0.6402796539914467\n",
      "Median: 0.6493506493506493\n",
      "Std: 0.1279629850615692\n",
      "Global: 0.5880037219955623\n"
     ]
    }
   ],
   "source": [
    "# Cluster\n",
    "cluster = np.array(list(nx.clustering(G).values()))\n",
    "print(f\"Max: {cluster.max()}\")\n",
    "print(f\"Min: {cluster.min()}\")\n",
    "print(f\"Mean: {cluster.mean()}\")\n",
    "print(f\"Median: {np.median(cluster)}\")\n",
    "print(f\"Std: {cluster.std()}\")\n",
    "print(f\"Global: {nx.transitivity(G)}\")"
   ],
   "metadata": {
    "collapsed": false,
    "pycharm": {
     "name": "#%%\n"
    }
   }
  },
  {
   "cell_type": "code",
   "execution_count": 9,
   "outputs": [
    {
     "name": "stdout",
     "output_type": "stream",
     "text": [
      "Max: 0.8243243243243243\n",
      "Min: 0.08108108108108109\n",
      "Mean: 0.41045045045045053\n",
      "Median: 0.3648648648648649\n",
      "Std: 0.2029340821576322\n"
     ]
    }
   ],
   "source": [
    "# Degree centrality\n",
    "dc = np.array(list(nx.degree_centrality(G).values()))\n",
    "print(f\"Max: {dc.max()}\")\n",
    "print(f\"Min: {dc.min()}\")\n",
    "print(f\"Mean: {dc.mean()}\")\n",
    "print(f\"Median: {np.median(dc)}\")\n",
    "print(f\"Std: {dc.std()}\")"
   ],
   "metadata": {
    "collapsed": false,
    "pycharm": {
     "name": "#%%\n"
    }
   }
  },
  {
   "cell_type": "code",
   "execution_count": 10,
   "outputs": [
    {
     "name": "stdout",
     "output_type": "stream",
     "text": [
      "Max: 0.040408304449621735\n",
      "Min: 3.6587756168739245e-05\n",
      "Mean: 0.008189559422436135\n",
      "Median: 0.0036521778576242775\n",
      "Std: 0.00954376020777635\n"
     ]
    }
   ],
   "source": [
    "# Betweeness centrality\n",
    "bc = np.array(list(nx.betweenness_centrality(G).values()))\n",
    "print(f\"Max: {bc.max()}\")\n",
    "print(f\"Min: {bc.min()}\")\n",
    "print(f\"Mean: {bc.mean()}\")\n",
    "print(f\"Median: {np.median(bc)}\")\n",
    "print(f\"Std: {bc.std()}\")"
   ],
   "metadata": {
    "collapsed": false,
    "pycharm": {
     "name": "#%%\n"
    }
   }
  },
  {
   "cell_type": "code",
   "execution_count": 11,
   "outputs": [
    {
     "name": "stdout",
     "output_type": "stream",
     "text": [
      "Max: 0.8505747126436781\n",
      "Min: 0.4966442953020134\n",
      "Mean: 0.6377306894522918\n",
      "Median: 0.6115702479338843\n",
      "Std: 0.08974930910933497\n"
     ]
    }
   ],
   "source": [
    "# Closeness centrality\n",
    "cloc = np.array(list(nx.closeness_centrality(G).values()))\n",
    "print(f\"Max: {cloc.max()}\")\n",
    "print(f\"Min: {cloc.min()}\")\n",
    "print(f\"Mean: {cloc.mean()}\")\n",
    "print(f\"Median: {np.median(cloc)}\")\n",
    "print(f\"Std: {cloc.std()}\")"
   ],
   "metadata": {
    "collapsed": false,
    "pycharm": {
     "name": "#%%\n"
    }
   }
  },
  {
   "cell_type": "code",
   "execution_count": 12,
   "outputs": [
    {
     "name": "stdout",
     "output_type": "stream",
     "text": [
      "Max: 0.19022428951343223\n",
      "Min: 0.02177293274188552\n",
      "Mean: 0.1053455336719825\n",
      "Median: 0.1030396594193674\n",
      "Std: 0.047282680430560796\n"
     ]
    }
   ],
   "source": [
    "# Eigenvector centrality\n",
    "ec = np.array(list(nx.eigenvector_centrality(G).values()))\n",
    "print(f\"Max: {ec.max()}\")\n",
    "print(f\"Min: {ec.min()}\")\n",
    "print(f\"Mean: {ec.mean()}\")\n",
    "print(f\"Median: {np.median(ec)}\")\n",
    "print(f\"Std: {ec.std()}\")"
   ],
   "metadata": {
    "collapsed": false,
    "pycharm": {
     "name": "#%%\n"
    }
   }
  },
  {
   "cell_type": "code",
   "execution_count": 13,
   "outputs": [
    {
     "name": "stdout",
     "output_type": "stream",
     "text": [
      "Max: 0.19982400128934738\n",
      "Min: -0.24535536852392556\n",
      "Mean: 0.028255412209853496\n",
      "Median: 0.05036417233356197\n",
      "Std: 0.11195965797636484\n"
     ]
    }
   ],
   "source": [
    "# Katz centrality\n",
    "kc = np.array(list(nx.katz_centrality_numpy(G).values()))\n",
    "print(f\"Max: {kc.max()}\")\n",
    "print(f\"Min: {kc.min()}\")\n",
    "print(f\"Mean: {kc.mean()}\")\n",
    "print(f\"Median: {np.median(kc)}\")\n",
    "print(f\"Std: {kc.std()}\")"
   ],
   "metadata": {
    "collapsed": false,
    "pycharm": {
     "name": "#%%\n"
    }
   }
  },
  {
   "cell_type": "code",
   "execution_count": 14,
   "outputs": [
    {
     "name": "stdout",
     "output_type": "stream",
     "text": [
      "Max: 0.025364303415755678\n",
      "Min: 0.0043508885821422465\n",
      "Mean: 0.013333333333333334\n",
      "Median: 0.012127868616582322\n",
      "Std: 0.005708895843947464\n"
     ]
    }
   ],
   "source": [
    "# PageRank centrality\n",
    "pr = np.array(list(nx.pagerank(G).values()))\n",
    "print(f\"Max: {pr.max()}\")\n",
    "print(f\"Min: {pr.min()}\")\n",
    "print(f\"Mean: {pr.mean()}\")\n",
    "print(f\"Median: {np.median(pr)}\")\n",
    "print(f\"Std: {pr.std()}\")"
   ],
   "metadata": {
    "collapsed": false,
    "pycharm": {
     "name": "#%%\n"
    }
   }
  },
  {
   "cell_type": "code",
   "execution_count": 15,
   "outputs": [
    {
     "name": "stdout",
     "output_type": "stream",
     "text": [
      "Max: 1769\n",
      "Min: 1098\n",
      "Mean: 1276.6078431372548\n",
      "Median: 1207.0\n",
      "Std: 174.5802897968268\n"
     ]
    }
   ],
   "source": [
    "# VoteRank centrality\n",
    "vr = np.array(nx.voterank(G))\n",
    "print(f\"Max: {vr.max()}\")\n",
    "print(f\"Min: {vr.min()}\")\n",
    "print(f\"Mean: {vr.mean()}\")\n",
    "print(f\"Median: {np.median(vr)}\")\n",
    "print(f\"Std: {vr.std()}\")"
   ],
   "metadata": {
    "collapsed": false,
    "pycharm": {
     "name": "#%%\n"
    }
   }
  },
  {
   "cell_type": "code",
   "execution_count": 16,
   "outputs": [
    {
     "name": "stdout",
     "output_type": "stream",
     "text": [
      "Max: 0.7352941176470589\n",
      "Min: 0.0\n",
      "Mean: 0.2566824483278312\n",
      "Median: 0.2413793103448276\n",
      "Std: 0.1291303232539603\n"
     ]
    }
   ],
   "source": [
    "# Jaccard similarity\n",
    "jaccard = np.array(list(p for (u, v, p) in nx.jaccard_coefficient(G)))\n",
    "print(f\"Max: {jaccard.max()}\")\n",
    "print(f\"Min: {jaccard.min()}\")\n",
    "print(f\"Mean: {jaccard.mean()}\")\n",
    "print(f\"Median: {np.median(jaccard)}\")\n",
    "print(f\"Std: {jaccard.std()}\")\n"
   ],
   "metadata": {
    "collapsed": false,
    "pycharm": {
     "name": "#%%\n"
    }
   }
  },
  {
   "cell_type": "code",
   "execution_count": 17,
   "outputs": [
    {
     "name": "stdout",
     "output_type": "stream",
     "text": [
      "Max: 11.883722533667907\n",
      "Min: 0.0\n",
      "Mean: 2.8305780539045573\n",
      "Median: 2.5564473168339714\n",
      "Std: 1.782811826926038\n"
     ]
    }
   ],
   "source": [
    "# Coefficient Adamic/Adar\n",
    "caa = np.array(list(p for (u, v, p) in nx.adamic_adar_index(G)))\n",
    "print(f\"Max: {caa.max()}\")\n",
    "print(f\"Min: {caa.min()}\")\n",
    "print(f\"Mean: {caa.mean()}\")\n",
    "print(f\"Median: {np.median(caa)}\")\n",
    "print(f\"Std: {caa.std()}\")"
   ],
   "metadata": {
    "collapsed": false,
    "pycharm": {
     "name": "#%%\n"
    }
   }
  }
 ],
 "metadata": {
  "kernelspec": {
   "name": "pycharm-519413d",
   "language": "python",
   "display_name": "PyCharm (Complex-Networks)"
  },
  "language_info": {
   "codemirror_mode": {
    "name": "ipython",
    "version": 2
   },
   "file_extension": ".py",
   "mimetype": "text/x-python",
   "name": "python",
   "nbconvert_exporter": "python",
   "pygments_lexer": "ipython2",
   "version": "2.7.6"
  }
 },
 "nbformat": 4,
 "nbformat_minor": 0
}