{
 "cells": [
  {
   "cell_type": "markdown",
   "source": [
    "### Adjnouns"
   ],
   "metadata": {
    "collapsed": false
   }
  },
  {
   "cell_type": "code",
   "execution_count": 51,
   "outputs": [],
   "source": [
    "import networkx as nx\n",
    "import numpy as np\n",
    "import matplotlib.pyplot as plt\n",
    "import seaborn as sns\n",
    "import statistics"
   ],
   "metadata": {
    "collapsed": false,
    "pycharm": {
     "name": "#%%\n"
    }
   }
  },
  {
   "cell_type": "code",
   "execution_count": 52,
   "outputs": [],
   "source": [
    "G = nx.read_gml('networks/adjnoun.gml', label = 'id')\n",
    "# G = nx.read_edgelist('networks/protein.edgelist.txt', create_using=nx.Graph(), nodetype=int)"
   ],
   "metadata": {
    "collapsed": false,
    "pycharm": {
     "name": "#%%\n"
    }
   }
  },
  {
   "cell_type": "code",
   "execution_count": 53,
   "outputs": [
    {
     "name": "stdout",
     "output_type": "stream",
     "text": [
      "Number of nodes: 112\n",
      "Number of edges: 425\n",
      "Directed graph: False\n",
      "Connected graph: True\n",
      "Connected components: 1\n"
     ]
    }
   ],
   "source": [
    "# distribuição empírica (faça um gráfico com\n",
    "# as diferentes redes).\n",
    "\n",
    "n_V = G.number_of_nodes()\n",
    "n_E = G.number_of_edges()\n",
    "print(f\"Number of nodes: {n_V}\")\n",
    "print(f\"Number of edges: {n_E}\")\n",
    "print(f\"Directed graph: {nx.is_directed(G)}\")\n",
    "print(f\"Connected graph: {nx.is_connected(G)}\")\n",
    "print(f\"Connected components: {nx.number_connected_components(G)}\")"
   ],
   "metadata": {
    "collapsed": false,
    "pycharm": {
     "name": "#%%\n"
    }
   }
  },
  {
   "cell_type": "code",
   "execution_count": 54,
   "outputs": [
    {
     "name": "stdout",
     "output_type": "stream",
     "text": [
      "Max: 49\n",
      "Min: 1\n",
      "Mean: 7.589285714285714\n",
      "Median: 6.0\n",
      "Std: 6.8511646187092206\n"
     ]
    }
   ],
   "source": [
    "# Degree\n",
    "degrees = np.array([int(dg) for (node, dg) in G.degree()])\n",
    "print(f\"Max: {degrees.max()}\")\n",
    "print(f\"Min: {degrees.min()}\")\n",
    "print(f\"Mean: {degrees.mean()}\")\n",
    "print(f\"Median: {np.median(degrees)}\")\n",
    "print(f\"Std: {degrees.std()}\")\n"
   ],
   "metadata": {
    "collapsed": false,
    "pycharm": {
     "name": "#%%\n"
    }
   }
  },
  {
   "cell_type": "code",
   "execution_count": 55,
   "outputs": [
    {
     "name": "stdout",
     "output_type": "stream",
     "text": [
      "2.5355534105534105\n",
      "Max: 5\n",
      "Min: 1\n",
      "Mean: 2.5355534105534105\n",
      "Median: 3.0\n",
      "Std: 0.7727816984463459\n"
     ]
    }
   ],
   "source": [
    "# Distance\n",
    "if nx.is_connected(G):\n",
    "    d_mean = nx.average_shortest_path_length(G)\n",
    "    print(f\"{d_mean}\")\n",
    "\n",
    "dist = dict(nx.all_pairs_shortest_path_length(G))\n",
    "distas = list()\n",
    "for i in dist.values():\n",
    "    distas = distas+list(i.values())\n",
    "distas = np.array(distas)\n",
    "distas = distas[distas != 0]\n",
    "print(f\"Max: {distas.max()}\")\n",
    "print(f\"Min: {distas.min()}\")\n",
    "print(f\"Mean: {distas.mean()}\")\n",
    "print(f\"Median: {np.median(distas)}\")\n",
    "print(f\"Std: {distas.std()}\")"
   ],
   "metadata": {
    "collapsed": false,
    "pycharm": {
     "name": "#%%\n"
    }
   }
  },
  {
   "cell_type": "code",
   "execution_count": 56,
   "outputs": [
    {
     "name": "stdout",
     "output_type": "stream",
     "text": [
      "N connected components: 1\n",
      "Max: 112\n",
      "Min: 112\n",
      "Mean: 112.0\n",
      "Median: 112.0\n",
      "Std: 0.0\n"
     ]
    }
   ],
   "source": [
    "# Connected components\n",
    "print(f\"N connected components: {nx.number_connected_components(G)}\")\n",
    "cc = np.array([len(c) for c in nx.connected_components(G)])\n",
    "print(f\"Max: {cc.max()}\")\n",
    "print(f\"Min: {cc.min()}\")\n",
    "print(f\"Mean: {cc.mean()}\")\n",
    "print(f\"Median: {np.median(cc)}\")\n",
    "print(f\"Std: {cc.std()}\")"
   ],
   "metadata": {
    "collapsed": false,
    "pycharm": {
     "name": "#%%\n"
    }
   }
  },
  {
   "cell_type": "code",
   "execution_count": 57,
   "outputs": [
    {
     "name": "stdout",
     "output_type": "stream",
     "text": [
      "Max: 1.0\n",
      "Min: 0.0\n",
      "Mean: 0.17284007981036792\n",
      "Median: 0.14285714285714285\n",
      "Std: 0.17908212951906685\n",
      "Global: 0.15693497881746177\n"
     ]
    }
   ],
   "source": [
    "# Cluster\n",
    "cluster = np.array(list(nx.clustering(G).values()))\n",
    "print(f\"Max: {cluster.max()}\")\n",
    "print(f\"Min: {cluster.min()}\")\n",
    "print(f\"Mean: {cluster.mean()}\")\n",
    "print(f\"Median: {np.median(cluster)}\")\n",
    "print(f\"Std: {cluster.std()}\")\n",
    "print(f\"Global: {nx.transitivity(G)}\")"
   ],
   "metadata": {
    "collapsed": false,
    "pycharm": {
     "name": "#%%\n"
    }
   }
  },
  {
   "cell_type": "code",
   "execution_count": 58,
   "outputs": [
    {
     "name": "stdout",
     "output_type": "stream",
     "text": [
      "Max: 0.44144144144144143\n",
      "Min: 0.009009009009009009\n",
      "Mean: 0.06837194337194338\n",
      "Median: 0.05405405405405406\n",
      "Std: 0.06172220377215514\n"
     ]
    }
   ],
   "source": [
    "# Degree centrality\n",
    "dc = np.array(list(nx.degree_centrality(G).values()))\n",
    "print(f\"Max: {dc.max()}\")\n",
    "print(f\"Min: {dc.min()}\")\n",
    "print(f\"Mean: {dc.mean()}\")\n",
    "print(f\"Median: {np.median(dc)}\")\n",
    "print(f\"Std: {dc.std()}\")"
   ],
   "metadata": {
    "collapsed": false,
    "pycharm": {
     "name": "#%%\n"
    }
   }
  },
  {
   "cell_type": "code",
   "execution_count": 59,
   "outputs": [
    {
     "name": "stdout",
     "output_type": "stream",
     "text": [
      "Max: 0.24468528792139316\n",
      "Min: 0.0\n",
      "Mean: 0.013959576459576458\n",
      "Median: 0.004718079015103604\n",
      "Std: 0.029707016630999263\n"
     ]
    }
   ],
   "source": [
    "# Betweeness centrality\n",
    "bc = np.array(list(nx.betweenness_centrality(G).values()))\n",
    "print(f\"Max: {bc.max()}\")\n",
    "print(f\"Min: {bc.min()}\")\n",
    "print(f\"Mean: {bc.mean()}\")\n",
    "print(f\"Median: {np.median(bc)}\")\n",
    "print(f\"Std: {bc.std()}\")"
   ],
   "metadata": {
    "collapsed": false,
    "pycharm": {
     "name": "#%%\n"
    }
   }
  },
  {
   "cell_type": "code",
   "execution_count": 60,
   "outputs": [
    {
     "name": "stdout",
     "output_type": "stream",
     "text": [
      "Max: 0.6166666666666667\n",
      "Min: 0.2674698795180723\n",
      "Mean: 0.4032878829427022\n",
      "Median: 0.4088411656175385\n",
      "Std: 0.05924376110232813\n"
     ]
    }
   ],
   "source": [
    "# Closeness centrality\n",
    "cloc = np.array(list(nx.closeness_centrality(G).values()))\n",
    "print(f\"Max: {cloc.max()}\")\n",
    "print(f\"Min: {cloc.min()}\")\n",
    "print(f\"Mean: {cloc.mean()}\")\n",
    "print(f\"Median: {np.median(cloc)}\")\n",
    "print(f\"Std: {cloc.std()}\")"
   ],
   "metadata": {
    "collapsed": false,
    "pycharm": {
     "name": "#%%\n"
    }
   }
  },
  {
   "cell_type": "code",
   "execution_count": 61,
   "outputs": [
    {
     "name": "stdout",
     "output_type": "stream",
     "text": [
      "Max: 0.4009759281963071\n",
      "Min: 0.001724191495893432\n",
      "Mean: 0.0720768379209648\n",
      "Median: 0.06208707772824801\n",
      "Std: 0.061102380181842296\n"
     ]
    }
   ],
   "source": [
    "# Eigenvector centrality\n",
    "ec = np.array(list(nx.eigenvector_centrality(G).values()))\n",
    "print(f\"Max: {ec.max()}\")\n",
    "print(f\"Min: {ec.min()}\")\n",
    "print(f\"Mean: {ec.mean()}\")\n",
    "print(f\"Median: {np.median(ec)}\")\n",
    "print(f\"Std: {ec.std()}\")"
   ],
   "metadata": {
    "collapsed": false,
    "pycharm": {
     "name": "#%%\n"
    }
   }
  },
  {
   "cell_type": "code",
   "execution_count": 80,
   "outputs": [
    {
     "name": "stdout",
     "output_type": "stream",
     "text": [
      "Max: 0.38009002948662984\n",
      "Min: 0.012159214772146374\n",
      "Mean: 0.07613150663388701\n",
      "Median: 0.0660267964529966\n",
      "Std: 0.055969323081719015\n"
     ]
    }
   ],
   "source": [
    "# Katz centrality\n",
    "kc = np.array(list(nx.katz_centrality_numpy(G, 0.07).values()))\n",
    "print(f\"Max: {kc.max()}\")\n",
    "print(f\"Min: {kc.min()}\")\n",
    "print(f\"Mean: {kc.mean()}\")\n",
    "print(f\"Median: {np.median(kc)}\")\n",
    "print(f\"Std: {kc.std()}\")"
   ],
   "metadata": {
    "collapsed": false,
    "pycharm": {
     "name": "#%%\n"
    }
   }
  },
  {
   "cell_type": "code",
   "execution_count": 63,
   "outputs": [
    {
     "name": "stdout",
     "output_type": "stream",
     "text": [
      "Max: 0.050505301233337296\n",
      "Min: 0.0022153664620715666\n",
      "Mean: 0.008928571428571428\n",
      "Median: 0.007511837809206852\n",
      "Std: 0.006875873938692096\n"
     ]
    }
   ],
   "source": [
    "# PageRank centrality\n",
    "pr = np.array(list(nx.pagerank(G).values()))\n",
    "print(f\"Max: {pr.max()}\")\n",
    "print(f\"Min: {pr.min()}\")\n",
    "print(f\"Mean: {pr.mean()}\")\n",
    "print(f\"Median: {np.median(pr)}\")\n",
    "print(f\"Std: {pr.std()}\")"
   ],
   "metadata": {
    "collapsed": false,
    "pycharm": {
     "name": "#%%\n"
    }
   }
  },
  {
   "cell_type": "code",
   "execution_count": 64,
   "outputs": [
    {
     "name": "stdout",
     "output_type": "stream",
     "text": [
      "Max: 106\n",
      "Min: 1\n",
      "Mean: 47.01587301587302\n",
      "Median: 42.0\n",
      "Std: 30.804293693446844\n"
     ]
    }
   ],
   "source": [
    "# VoteRank centrality\n",
    "vr = np.array(nx.voterank(G))\n",
    "print(f\"Max: {vr.max()}\")\n",
    "print(f\"Min: {vr.min()}\")\n",
    "print(f\"Mean: {vr.mean()}\")\n",
    "print(f\"Median: {np.median(vr)}\")\n",
    "print(f\"Std: {vr.std()}\")"
   ],
   "metadata": {
    "collapsed": false,
    "pycharm": {
     "name": "#%%\n"
    }
   }
  },
  {
   "cell_type": "code",
   "execution_count": 65,
   "outputs": [
    {
     "name": "stdout",
     "output_type": "stream",
     "text": [
      "Max: 1.0\n",
      "Min: 0.0\n",
      "Mean: 0.05287385624263105\n",
      "Median: 0.0\n",
      "Std: 0.0744634431771921\n"
     ]
    }
   ],
   "source": [
    "# Jaccard similarity\n",
    "jaccard = np.array(list(p for (u, v, p) in nx.jaccard_coefficient(G)))\n",
    "print(f\"Max: {jaccard.max()}\")\n",
    "print(f\"Min: {jaccard.min()}\")\n",
    "print(f\"Mean: {jaccard.mean()}\")\n",
    "print(f\"Median: {np.median(jaccard)}\")\n",
    "print(f\"Std: {jaccard.std()}\")\n"
   ],
   "metadata": {
    "collapsed": false,
    "pycharm": {
     "name": "#%%\n"
    }
   }
  },
  {
   "cell_type": "code",
   "execution_count": 66,
   "outputs": [
    {
     "name": "stdout",
     "output_type": "stream",
     "text": [
      "Max: 5.9366272561300475\n",
      "Min: 0.0\n",
      "Mean: 0.2849567369821838\n",
      "Median: 0.0\n",
      "Std: 0.4543699129290283\n"
     ]
    }
   ],
   "source": [
    "# Coeficiente Adamic/Adar\n",
    "caa = np.array(list(p for (u, v, p) in nx.adamic_adar_index(G)))\n",
    "print(f\"Max: {caa.max()}\")\n",
    "print(f\"Min: {caa.min()}\")\n",
    "print(f\"Mean: {caa.mean()}\")\n",
    "print(f\"Median: {np.median(caa)}\")\n",
    "print(f\"Std: {caa.std()}\")"
   ],
   "metadata": {
    "collapsed": false,
    "pycharm": {
     "name": "#%%\n"
    }
   }
  },
  {
   "cell_type": "code",
   "execution_count": 67,
   "outputs": [
    {
     "data": {
      "text/plain": "<Figure size 360x360 with 1 Axes>",
      "image/png": "[encoded data removed]"
     },
     "metadata": {
      "needs_background": "light"
     },
     "output_type": "display_data"
    }
   ],
   "source": [
    "# pdf\n",
    "x, f_k = np.unique(distas, return_counts=True)\n",
    "pdf = f_k/f_k.sum()\n",
    "\n",
    "plt.figure(figsize=(5,5))\n",
    "plt.title('Empirical PDF - Distance')\n",
    "plt.xlabel('Distance')\n",
    "plt.ylabel('Probability')\n",
    "\n",
    "plt.scatter(x, pdf, alpha=0.5)\n",
    "plt.plot(x, pdf, alpha=0.5)\n",
    "plt.show()"
   ],
   "metadata": {
    "collapsed": false,
    "pycharm": {
     "name": "#%%\n"
    }
   }
  },
  {
   "cell_type": "code",
   "execution_count": 68,
   "outputs": [
    {
     "data": {
      "text/plain": "<Figure size 360x360 with 1 Axes>",
      "image/png": "[encoded data removed]"
     },
     "metadata": {
      "needs_background": "light"
     },
     "output_type": "display_data"
    }
   ],
   "source": [
    "# CCDF\n",
    "cdf = f_k.cumsum()/f_k.sum()\n",
    "ccdf = 1-cdf\n",
    "\n",
    "plt.figure(figsize=(5,5))\n",
    "plt.scatter(x, ccdf, alpha=0.5)\n",
    "plt.title('Empirical CCDF - Distance')\n",
    "plt.xscale('log')\n",
    "plt.yscale('log')\n",
    "plt.xlabel('Distance')\n",
    "plt.ylabel('CCDF')\n",
    "\n",
    "plt.show()"
   ],
   "metadata": {
    "collapsed": false,
    "pycharm": {
     "name": "#%%\n"
    }
   }
  },
  {
   "cell_type": "code",
   "execution_count": 69,
   "outputs": [
    {
     "data": {
      "text/plain": "<Figure size 360x360 with 1 Axes>",
      "image/png": "[encoded data removed]"
     },
     "metadata": {
      "needs_background": "light"
     },
     "output_type": "display_data"
    }
   ],
   "source": [
    "# pdf\n",
    "x_g, f_k_g = np.unique(degrees, return_counts=True)\n",
    "pdf_g = f_k_g/f_k_g.sum()\n",
    "\n",
    "plt.figure(figsize=(5,5))\n",
    "plt.title('Empirical PDF - Degree')\n",
    "plt.xlabel('Degree')\n",
    "plt.ylabel('Probability')\n",
    "\n",
    "plt.scatter(x_g, pdf_g, alpha=0.5)\n",
    "plt.plot(x_g, pdf_g, alpha=0.5)\n",
    "plt.show()"
   ],
   "metadata": {
    "collapsed": false,
    "pycharm": {
     "name": "#%%\n"
    }
   }
  },
  {
   "cell_type": "code",
   "execution_count": 70,
   "outputs": [
    {
     "data": {
      "text/plain": "<Figure size 360x360 with 1 Axes>",
      "image/png": "[encoded data removed]"
     },
     "metadata": {
      "needs_background": "light"
     },
     "output_type": "display_data"
    }
   ],
   "source": [
    "# CCDF\n",
    "cdf_g = f_k_g.cumsum()/f_k_g.sum()\n",
    "ccdf_g = 1-cdf_g\n",
    "\n",
    "plt.figure(figsize=(5,5))\n",
    "plt.scatter(x_g, ccdf_g, alpha=0.5)\n",
    "plt.title('Empirical CCDF - Degree')\n",
    "plt.xscale('log')\n",
    "plt.yscale('log')\n",
    "plt.xlabel('Degree')\n",
    "plt.ylabel('CCDF')\n",
    "\n",
    "plt.show()"
   ],
   "metadata": {
    "collapsed": false,
    "pycharm": {
     "name": "#%%\n"
    }
   }
  },
  {
   "cell_type": "code",
   "execution_count": 71,
   "outputs": [],
   "source": [
    "np.savetxt('data/adjnouns-dista-x.txt', x, delimiter=',', fmt='%d')\n",
    "np.savetxt('data/adjnouns-dista-pdf.txt', pdf, delimiter=',', fmt='%f')\n",
    "np.savetxt('data/adjnouns-dista-ccdf.txt', ccdf, delimiter=',', fmt='%f')\n",
    "\n",
    "np.savetxt('data/adjnouns-degree-x.txt', x_g, delimiter=',', fmt='%d')\n",
    "np.savetxt('data/adjnouns-degree-pdf.txt', pdf_g, delimiter=',', fmt='%f')\n",
    "np.savetxt('data/adjnouns-degree-ccdf.txt', ccdf_g, delimiter=',', fmt='%f')\n"
   ],
   "metadata": {
    "collapsed": false,
    "pycharm": {
     "name": "#%%\n"
    }
   }
  }
 ],
 "metadata": {
  "kernelspec": {
   "name": "pycharm-519413d",
   "language": "python",
   "display_name": "PyCharm (Complex-Networks)"
  },
  "language_info": {
   "codemirror_mode": {
    "name": "ipython",
    "version": 2
   },
   "file_extension": ".py",
   "mimetype": "text/x-python",
   "name": "python",
   "nbconvert_exporter": "python",
   "pygments_lexer": "ipython2",
   "version": "2.7.6"
  }
 },
 "nbformat": 4,
 "nbformat_minor": 0
}