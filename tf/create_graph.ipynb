{
 "cells": [
  {
   "cell_type": "code",
   "execution_count": 10,
   "metadata": {
    "collapsed": true
   },
   "outputs": [],
   "source": [
    "import pandas as pd\n",
    "import itertools\n",
    "import networkx as nx"
   ]
  },
  {
   "cell_type": "code",
   "execution_count": 11,
   "outputs": [],
   "source": [
    "# Import df\n",
    "def import_df(date):\n",
    "    votes_df = pd.read_csv(f\"datasets/votacoesVotos-{date}.csv\", delimiter=\";\")\n",
    "    orientation_df = pd.read_csv(f\"datasets/votacoesOrientacoes-{date}.csv\", delimiter=\";\")\n",
    "    votes_df = votes_df[['idVotacao', 'voto',\n",
    "                         'deputado_id', 'deputado_nome',\n",
    "                         'deputado_siglaPartido']]\n",
    "    orientation_df = orientation_df[['idVotacao',\n",
    "                                     'siglaBancada',\n",
    "                                     'orientacao']]\n",
    "    votes_df = votes_df.rename(columns={\"deputado_siglaPartido\": \"siglaBancada\"})\n",
    "    #free_orientation_df = orientation_df.query('orientacao==\"Sim\" | orientacao==\"Não\"')\n",
    "    free_orientation_df = orientation_df.query('orientacao==\"Liberado\"')\n",
    "    return votes_df, free_orientation_df"
   ],
   "metadata": {
    "collapsed": false,
    "pycharm": {
     "name": "#%%\n"
    }
   }
  },
  {
   "cell_type": "code",
   "execution_count": 12,
   "outputs": [],
   "source": [
    "def merge_dfs(votes_df, free_orientation_df):\n",
    "    return pd.merge(free_orientation_df,\n",
    "             votes_df,\n",
    "             on=[\"idVotacao\", \"siglaBancada\"],\n",
    "             how=\"inner\")"
   ],
   "metadata": {
    "collapsed": false,
    "pycharm": {
     "name": "#%%\n"
    }
   }
  },
  {
   "cell_type": "code",
   "execution_count": 13,
   "outputs": [],
   "source": [
    "def group_by_df(vo_df):\n",
    "    return vo_df.groupby(by=[\"deputado_id\", \"deputado_nome\"]).agg({'idVotacao': lambda x: ','.join(x),\n",
    "                                                                            'voto': lambda x: ','.join(x),\n",
    "                                                                            #'deputado_siglaPartido': 'max',\n",
    "                                                                            #'deputado_nome': 'max'\n",
    "                                                                       }).reset_index()"
   ],
   "metadata": {
    "collapsed": false,
    "pycharm": {
     "name": "#%%\n"
    }
   }
  },
  {
   "cell_type": "code",
   "execution_count": 14,
   "outputs": [],
   "source": [
    "def get_dep_votes(grouped_vo_df):\n",
    "    dep_votes = dict()\n",
    "    for index, row in grouped_vo_df.iterrows():\n",
    "        votes = dict(zip(row[\"idVotacao\"].split(\",\"), row[\"voto\"].split(\",\")))\n",
    "        dep_votes[row[\"deputado_id\"]] = votes\n",
    "    return dep_votes\n",
    "\n",
    "def combine_deps(dep_votes):\n",
    "    return list(itertools.combinations(dep_votes.keys(), 2))\n"
   ],
   "metadata": {
    "collapsed": false,
    "pycharm": {
     "name": "#%%\n"
    }
   }
  },
  {
   "cell_type": "code",
   "execution_count": 15,
   "outputs": [],
   "source": [
    "def calculate_corr(dep_combinations, dep_votes):\n",
    "    corr_dict = dict()\n",
    "    for deps in dep_combinations:\n",
    "        shared_items = dict()\n",
    "        same_propositions = list()\n",
    "        for k in dep_votes[deps[0]]:\n",
    "            if k in dep_votes[deps[1]]:\n",
    "                same_propositions.append(k)\n",
    "                if dep_votes[deps[0]][k] == dep_votes[deps[1]][k]:\n",
    "                    shared_items[k] = dep_votes[deps[0]][k]\n",
    "        if len(same_propositions) == 0:\n",
    "            corr_dict[deps] = 0\n",
    "        else:\n",
    "            #corr_dict[deps]= len(shared_items)/len(same_propositions)\n",
    "            corr_dict[deps]= len(shared_items)\n",
    "    return corr_dict\n",
    "\n",
    "def sort_corr(corr_dict):\n",
    "    return sorted(corr_dict.items(), key=lambda x: x[1], reverse=True)\n"
   ],
   "metadata": {
    "collapsed": false,
    "pycharm": {
     "name": "#%%\n"
    }
   }
  },
  {
   "cell_type": "code",
   "execution_count": 16,
   "outputs": [],
   "source": [
    "def process():\n",
    "    all_dates_dict = dict()\n",
    "    for vote_date in ['2021','2019','2020']:\n",
    "        votes_df, free_orientation_df = import_df(vote_date)\n",
    "        vo_df = merge_dfs(votes_df, free_orientation_df)\n",
    "        grouped_vo_df = group_by_df(vo_df)\n",
    "        grouped_vo_df.head(5)\n",
    "        dep_votes = get_dep_votes(grouped_vo_df)\n",
    "        dep_combinations = combine_deps(dep_votes)\n",
    "        corr_dict = calculate_corr(dep_combinations, dep_votes)\n",
    "        all_dates_dict = {**all_dates_dict, **corr_dict}\n",
    "    return all_dates_dict\n",
    "\n",
    "all_dates_dict = process()\n",
    "all_dates_dict_sorted = sort_corr(all_dates_dict)"
   ],
   "metadata": {
    "collapsed": false,
    "pycharm": {
     "name": "#%%\n"
    }
   }
  },
  {
   "cell_type": "code",
   "execution_count": 17,
   "outputs": [],
   "source": [
    "G=nx.Graph()\n",
    "for edge in all_dates_dict_sorted:\n",
    "    if edge[1] > 0:\n",
    "        G.add_edge(edge[0][0], edge[0][1], weight=edge[1])"
   ],
   "metadata": {
    "collapsed": false,
    "pycharm": {
     "name": "#%%\n"
    }
   }
  },
  {
   "cell_type": "code",
   "execution_count": 18,
   "outputs": [],
   "source": [
    "nx.write_edgelist(G, \"networks/vote19-20-21-liberado-not-normalized.txt\", delimiter=' ', data=['weight', \"party\"])\n"
   ],
   "metadata": {
    "collapsed": false,
    "pycharm": {
     "name": "#%%\n"
    }
   }
  }
 ],
 "metadata": {
  "kernelspec": {
   "display_name": "Python 3",
   "language": "python",
   "name": "python3"
  },
  "language_info": {
   "codemirror_mode": {
    "name": "ipython",
    "version": 2
   },
   "file_extension": ".py",
   "mimetype": "text/x-python",
   "name": "python",
   "nbconvert_exporter": "python",
   "pygments_lexer": "ipython2",
   "version": "2.7.6"
  }
 },
 "nbformat": 4,
 "nbformat_minor": 0
}