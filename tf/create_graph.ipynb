{
 "cells": [
  {
   "cell_type": "code",
   "execution_count": 1,
   "outputs": [],
   "source": [
    "import pandas as pd\n",
    "import itertools\n",
    "import networkx as nx"
   ],
   "metadata": {
    "collapsed": false,
    "pycharm": {
     "name": "#%%\n"
    }
   }
  },
  {
   "cell_type": "code",
   "execution_count": 2,
   "outputs": [],
   "source": [
    "# Import df\n",
    "def import_df(date):\n",
    "    votes_df = pd.read_csv(f\"datasets/votacoesVotos-{date}.csv\", delimiter=\";\")\n",
    "    orientation_df = pd.read_csv(f\"datasets/votacoesOrientacoes-{date}.csv\", delimiter=\";\")\n",
    "    votes_df = votes_df[['idVotacao', 'voto',\n",
    "                         'deputado_id', 'deputado_nome',\n",
    "                         'deputado_siglaPartido']]\n",
    "    orientation_df = orientation_df[['idVotacao',\n",
    "                                     'siglaBancada',\n",
    "                                     'orientacao']]\n",
    "    votes_df = votes_df.rename(columns={\"deputado_siglaPartido\": \"siglaBancada\"})\n",
    "    free_orientation_df = orientation_df.query('orientacao==\"Sim\" | orientacao==\"Não\"')\n",
    "    #free_orientation_df = orientation_df.query('orientacao==\"Liberado\"')\n",
    "    return votes_df, free_orientation_df"
   ],
   "metadata": {
    "collapsed": false,
    "pycharm": {
     "name": "#%%\n"
    }
   }
  },
  {
   "cell_type": "code",
   "execution_count": 3,
   "outputs": [],
   "source": [
    "def merge_dfs(votes_df, free_orientation_df):\n",
    "    return pd.merge(free_orientation_df,\n",
    "             votes_df,\n",
    "             on=[\"idVotacao\", \"siglaBancada\"],\n",
    "             how=\"inner\")"
   ],
   "metadata": {
    "collapsed": false,
    "pycharm": {
     "name": "#%%\n"
    }
   }
  },
  {
   "cell_type": "code",
   "execution_count": 4,
   "outputs": [],
   "source": [
    "def group_by_df(vo_df):\n",
    "    return vo_df.groupby(by=[\"deputado_id\", \"deputado_nome\", \"deputado_siglaPartido\"]).agg({'idVotacao': lambda x: ','.join(x),\n",
    "                                                                            'voto': lambda x: ','.join(x),\n",
    "                                                                            #'deputado_siglaPartido': 'max',\n",
    "                                                                            #'deputado_nome': 'max'\n",
    "                                                                       }).reset_index()"
   ],
   "metadata": {
    "collapsed": false,
    "pycharm": {
     "name": "#%%\n"
    }
   }
  },
  {
   "cell_type": "code",
   "execution_count": 5,
   "outputs": [],
   "source": [
    "def get_dep_votes(grouped_vo_df):\n",
    "    dep_votes = dict()\n",
    "    for index, row in grouped_vo_df.iterrows():\n",
    "        votes = dict(zip(row[\"idVotacao\"].split(\",\"), row[\"voto\"].split(\",\")))\n",
    "        dep_votes[row[\"deputado_id\"]] = votes\n",
    "    return dep_votes\n",
    "\n",
    "def combine_deps(dep_votes):\n",
    "    return list(itertools.combinations(dep_votes.keys(), 2))\n"
   ],
   "metadata": {
    "collapsed": false,
    "pycharm": {
     "name": "#%%\n"
    }
   }
  },
  {
   "cell_type": "code",
   "execution_count": 6,
   "outputs": [],
   "source": [
    "def calculate_corr(dep_combinations, dep_votes):\n",
    "    corr_dict = dict()\n",
    "    for deps in dep_combinations:\n",
    "        shared_items = dict()\n",
    "        same_propositions = list()\n",
    "        for k in dep_votes[deps[0]]:\n",
    "            if k in dep_votes[deps[1]]:\n",
    "                same_propositions.append(k)\n",
    "                if dep_votes[deps[0]][k] == dep_votes[deps[1]][k]:\n",
    "                    shared_items[k] = dep_votes[deps[0]][k]\n",
    "        if len(same_propositions) == 0:\n",
    "            corr_dict[deps] = 0\n",
    "        else:\n",
    "            #corr_dict[deps]= len(shared_items)/len(same_propositions)\n",
    "            corr_dict[deps]= len(shared_items)\n",
    "    return corr_dict\n",
    "\n",
    "def sort_corr(corr_dict):\n",
    "    return sorted(corr_dict.items(), key=lambda x: x[1], reverse=True)\n"
   ],
   "metadata": {
    "collapsed": false,
    "pycharm": {
     "name": "#%%\n"
    }
   }
  },
  {
   "cell_type": "code",
   "execution_count": 7,
   "outputs": [
    {
     "ename": "KeyError",
     "evalue": "'deputado_siglaPartido'",
     "output_type": "error",
     "traceback": [
      "\u001B[1;31m---------------------------------------------------------------------------\u001B[0m",
      "\u001B[1;31mKeyError\u001B[0m                                  Traceback (most recent call last)",
      "\u001B[1;32m<ipython-input-7-a14c6bb8a9e5>\u001B[0m in \u001B[0;36m<module>\u001B[1;34m\u001B[0m\n\u001B[0;32m     12\u001B[0m     \u001B[1;32mreturn\u001B[0m \u001B[0mall_dates_dict\u001B[0m\u001B[1;33m,\u001B[0m \u001B[0mvo_df\u001B[0m\u001B[1;33m\u001B[0m\u001B[1;33m\u001B[0m\u001B[0m\n\u001B[0;32m     13\u001B[0m \u001B[1;33m\u001B[0m\u001B[0m\n\u001B[1;32m---> 14\u001B[1;33m \u001B[0mall_dates_dict\u001B[0m\u001B[1;33m,\u001B[0m \u001B[0mvotes_df\u001B[0m \u001B[1;33m=\u001B[0m \u001B[0mprocess\u001B[0m\u001B[1;33m(\u001B[0m\u001B[1;33m)\u001B[0m\u001B[1;33m\u001B[0m\u001B[1;33m\u001B[0m\u001B[0m\n\u001B[0m\u001B[0;32m     15\u001B[0m \u001B[0mall_dates_dict_sorted\u001B[0m \u001B[1;33m=\u001B[0m \u001B[0msort_corr\u001B[0m\u001B[1;33m(\u001B[0m\u001B[0mall_dates_dict\u001B[0m\u001B[1;33m)\u001B[0m\u001B[1;33m\u001B[0m\u001B[1;33m\u001B[0m\u001B[0m\n\u001B[0;32m     16\u001B[0m \u001B[1;33m\u001B[0m\u001B[0m\n",
      "\u001B[1;32m<ipython-input-7-a14c6bb8a9e5>\u001B[0m in \u001B[0;36mprocess\u001B[1;34m()\u001B[0m\n\u001B[0;32m      4\u001B[0m         \u001B[0mv_df\u001B[0m\u001B[1;33m,\u001B[0m \u001B[0mfree_orientation_df\u001B[0m \u001B[1;33m=\u001B[0m \u001B[0mimport_df\u001B[0m\u001B[1;33m(\u001B[0m\u001B[0mvote_date\u001B[0m\u001B[1;33m)\u001B[0m\u001B[1;33m\u001B[0m\u001B[1;33m\u001B[0m\u001B[0m\n\u001B[0;32m      5\u001B[0m         \u001B[0mvo_df\u001B[0m \u001B[1;33m=\u001B[0m \u001B[0mmerge_dfs\u001B[0m\u001B[1;33m(\u001B[0m\u001B[0mv_df\u001B[0m\u001B[1;33m,\u001B[0m \u001B[0mfree_orientation_df\u001B[0m\u001B[1;33m)\u001B[0m\u001B[1;33m\u001B[0m\u001B[1;33m\u001B[0m\u001B[0m\n\u001B[1;32m----> 6\u001B[1;33m         \u001B[0mgrouped_vo_df\u001B[0m \u001B[1;33m=\u001B[0m \u001B[0mgroup_by_df\u001B[0m\u001B[1;33m(\u001B[0m\u001B[0mvo_df\u001B[0m\u001B[1;33m)\u001B[0m\u001B[1;33m\u001B[0m\u001B[1;33m\u001B[0m\u001B[0m\n\u001B[0m\u001B[0;32m      7\u001B[0m         \u001B[0mgrouped_vo_df\u001B[0m\u001B[1;33m.\u001B[0m\u001B[0mhead\u001B[0m\u001B[1;33m(\u001B[0m\u001B[1;36m5\u001B[0m\u001B[1;33m)\u001B[0m\u001B[1;33m\u001B[0m\u001B[1;33m\u001B[0m\u001B[0m\n\u001B[0;32m      8\u001B[0m         \u001B[0mdep_votes\u001B[0m \u001B[1;33m=\u001B[0m \u001B[0mget_dep_votes\u001B[0m\u001B[1;33m(\u001B[0m\u001B[0mgrouped_vo_df\u001B[0m\u001B[1;33m)\u001B[0m\u001B[1;33m\u001B[0m\u001B[1;33m\u001B[0m\u001B[0m\n",
      "\u001B[1;32m<ipython-input-4-de970e297e9a>\u001B[0m in \u001B[0;36mgroup_by_df\u001B[1;34m(vo_df)\u001B[0m\n\u001B[0;32m      1\u001B[0m \u001B[1;32mdef\u001B[0m \u001B[0mgroup_by_df\u001B[0m\u001B[1;33m(\u001B[0m\u001B[0mvo_df\u001B[0m\u001B[1;33m)\u001B[0m\u001B[1;33m:\u001B[0m\u001B[1;33m\u001B[0m\u001B[1;33m\u001B[0m\u001B[0m\n\u001B[1;32m----> 2\u001B[1;33m     return vo_df.groupby(by=[\"deputado_id\", \"deputado_nome\", \"deputado_siglaPartido\"]).agg({'idVotacao': lambda x: ','.join(x),\n\u001B[0m\u001B[0;32m      3\u001B[0m                                                                             \u001B[1;34m'voto'\u001B[0m\u001B[1;33m:\u001B[0m \u001B[1;32mlambda\u001B[0m \u001B[0mx\u001B[0m\u001B[1;33m:\u001B[0m \u001B[1;34m','\u001B[0m\u001B[1;33m.\u001B[0m\u001B[0mjoin\u001B[0m\u001B[1;33m(\u001B[0m\u001B[0mx\u001B[0m\u001B[1;33m)\u001B[0m\u001B[1;33m,\u001B[0m\u001B[1;33m\u001B[0m\u001B[1;33m\u001B[0m\u001B[0m\n\u001B[0;32m      4\u001B[0m                                                                             \u001B[1;31m#'deputado_siglaPartido': 'max',\u001B[0m\u001B[1;33m\u001B[0m\u001B[1;33m\u001B[0m\u001B[1;33m\u001B[0m\u001B[0m\n\u001B[0;32m      5\u001B[0m                                                                             \u001B[1;31m#'deputado_nome': 'max'\u001B[0m\u001B[1;33m\u001B[0m\u001B[1;33m\u001B[0m\u001B[1;33m\u001B[0m\u001B[0m\n",
      "\u001B[1;32mc:\\users\\rodrigo\\appdata\\local\\programs\\python\\python37\\lib\\site-packages\\pandas\\core\\frame.py\u001B[0m in \u001B[0;36mgroupby\u001B[1;34m(self, by, axis, level, as_index, sort, group_keys, squeeze, observed, dropna)\u001B[0m\n\u001B[0;32m   6725\u001B[0m             \u001B[0msqueeze\u001B[0m\u001B[1;33m=\u001B[0m\u001B[0msqueeze\u001B[0m\u001B[1;33m,\u001B[0m\u001B[1;33m\u001B[0m\u001B[1;33m\u001B[0m\u001B[0m\n\u001B[0;32m   6726\u001B[0m             \u001B[0mobserved\u001B[0m\u001B[1;33m=\u001B[0m\u001B[0mobserved\u001B[0m\u001B[1;33m,\u001B[0m\u001B[1;33m\u001B[0m\u001B[1;33m\u001B[0m\u001B[0m\n\u001B[1;32m-> 6727\u001B[1;33m             \u001B[0mdropna\u001B[0m\u001B[1;33m=\u001B[0m\u001B[0mdropna\u001B[0m\u001B[1;33m,\u001B[0m\u001B[1;33m\u001B[0m\u001B[1;33m\u001B[0m\u001B[0m\n\u001B[0m\u001B[0;32m   6728\u001B[0m         )\n\u001B[0;32m   6729\u001B[0m \u001B[1;33m\u001B[0m\u001B[0m\n",
      "\u001B[1;32mc:\\users\\rodrigo\\appdata\\local\\programs\\python\\python37\\lib\\site-packages\\pandas\\core\\groupby\\groupby.py\u001B[0m in \u001B[0;36m__init__\u001B[1;34m(self, obj, keys, axis, level, grouper, exclusions, selection, as_index, sort, group_keys, squeeze, observed, mutated, dropna)\u001B[0m\n\u001B[0;32m    566\u001B[0m                 \u001B[0mobserved\u001B[0m\u001B[1;33m=\u001B[0m\u001B[0mobserved\u001B[0m\u001B[1;33m,\u001B[0m\u001B[1;33m\u001B[0m\u001B[1;33m\u001B[0m\u001B[0m\n\u001B[0;32m    567\u001B[0m                 \u001B[0mmutated\u001B[0m\u001B[1;33m=\u001B[0m\u001B[0mself\u001B[0m\u001B[1;33m.\u001B[0m\u001B[0mmutated\u001B[0m\u001B[1;33m,\u001B[0m\u001B[1;33m\u001B[0m\u001B[1;33m\u001B[0m\u001B[0m\n\u001B[1;32m--> 568\u001B[1;33m                 \u001B[0mdropna\u001B[0m\u001B[1;33m=\u001B[0m\u001B[0mself\u001B[0m\u001B[1;33m.\u001B[0m\u001B[0mdropna\u001B[0m\u001B[1;33m,\u001B[0m\u001B[1;33m\u001B[0m\u001B[1;33m\u001B[0m\u001B[0m\n\u001B[0m\u001B[0;32m    569\u001B[0m             )\n\u001B[0;32m    570\u001B[0m \u001B[1;33m\u001B[0m\u001B[0m\n",
      "\u001B[1;32mc:\\users\\rodrigo\\appdata\\local\\programs\\python\\python37\\lib\\site-packages\\pandas\\core\\groupby\\grouper.py\u001B[0m in \u001B[0;36mget_grouper\u001B[1;34m(obj, key, axis, level, sort, observed, mutated, validate, dropna)\u001B[0m\n\u001B[0;32m    809\u001B[0m                 \u001B[0min_axis\u001B[0m\u001B[1;33m,\u001B[0m \u001B[0mname\u001B[0m\u001B[1;33m,\u001B[0m \u001B[0mlevel\u001B[0m\u001B[1;33m,\u001B[0m \u001B[0mgpr\u001B[0m \u001B[1;33m=\u001B[0m \u001B[1;32mFalse\u001B[0m\u001B[1;33m,\u001B[0m \u001B[1;32mNone\u001B[0m\u001B[1;33m,\u001B[0m \u001B[0mgpr\u001B[0m\u001B[1;33m,\u001B[0m \u001B[1;32mNone\u001B[0m\u001B[1;33m\u001B[0m\u001B[1;33m\u001B[0m\u001B[0m\n\u001B[0;32m    810\u001B[0m             \u001B[1;32melse\u001B[0m\u001B[1;33m:\u001B[0m\u001B[1;33m\u001B[0m\u001B[1;33m\u001B[0m\u001B[0m\n\u001B[1;32m--> 811\u001B[1;33m                 \u001B[1;32mraise\u001B[0m \u001B[0mKeyError\u001B[0m\u001B[1;33m(\u001B[0m\u001B[0mgpr\u001B[0m\u001B[1;33m)\u001B[0m\u001B[1;33m\u001B[0m\u001B[1;33m\u001B[0m\u001B[0m\n\u001B[0m\u001B[0;32m    812\u001B[0m         \u001B[1;32melif\u001B[0m \u001B[0misinstance\u001B[0m\u001B[1;33m(\u001B[0m\u001B[0mgpr\u001B[0m\u001B[1;33m,\u001B[0m \u001B[0mGrouper\u001B[0m\u001B[1;33m)\u001B[0m \u001B[1;32mand\u001B[0m \u001B[0mgpr\u001B[0m\u001B[1;33m.\u001B[0m\u001B[0mkey\u001B[0m \u001B[1;32mis\u001B[0m \u001B[1;32mnot\u001B[0m \u001B[1;32mNone\u001B[0m\u001B[1;33m:\u001B[0m\u001B[1;33m\u001B[0m\u001B[1;33m\u001B[0m\u001B[0m\n\u001B[0;32m    813\u001B[0m             \u001B[1;31m# Add key to exclusions\u001B[0m\u001B[1;33m\u001B[0m\u001B[1;33m\u001B[0m\u001B[1;33m\u001B[0m\u001B[0m\n",
      "\u001B[1;31mKeyError\u001B[0m: 'deputado_siglaPartido'"
     ]
    }
   ],
   "source": [
    "def process():\n",
    "    all_dates_dict = dict()\n",
    "    for vote_date in ['2021','2019','2020']:\n",
    "        v_df, free_orientation_df = import_df(vote_date)\n",
    "        vo_df = merge_dfs(v_df, free_orientation_df)\n",
    "        grouped_vo_df = group_by_df(vo_df)\n",
    "        grouped_vo_df.head(5)\n",
    "        dep_votes = get_dep_votes(grouped_vo_df)\n",
    "        dep_combinations = combine_deps(dep_votes)\n",
    "        corr_dict = calculate_corr(dep_combinations, dep_votes)\n",
    "        all_dates_dict = {**all_dates_dict, **corr_dict}\n",
    "    return all_dates_dict, vo_df\n",
    "\n",
    "all_dates_dict, votes_df = process()\n",
    "all_dates_dict_sorted = sort_corr(all_dates_dict)"
   ],
   "metadata": {
    "collapsed": false,
    "pycharm": {
     "name": "#%%\n"
    }
   }
  },
  {
   "cell_type": "code",
   "execution_count": null,
   "outputs": [],
   "source": [
    "G=nx.Graph()\n",
    "for edge in all_dates_dict_sorted:\n",
    "    if edge[1] > 0:\n",
    "        G.add_edge(edge[0][0], edge[0][1], weight=edge[1])"
   ],
   "metadata": {
    "collapsed": false,
    "pycharm": {
     "name": "#%%\n"
    }
   }
  },
  {
   "cell_type": "code",
   "execution_count": null,
   "outputs": [],
   "source": [
    "# nx.write_edgelist(G, \"networks/vote19-20-21-liberado-not-normalized.txt\", delimiter=' ', data=['weight', \"party\"])"
   ],
   "metadata": {
    "collapsed": false,
    "pycharm": {
     "name": "#%%\n"
    }
   }
  },
  {
   "cell_type": "code",
   "execution_count": null,
   "outputs": [],
   "source": [
    "aa = votes_df.groupby(['idVotacao','siglaBancada'])['voto'].apply(', '.join).reset_index()"
   ],
   "metadata": {
    "collapsed": false,
    "pycharm": {
     "name": "#%%\n"
    }
   }
  }
 ],
 "metadata": {
  "kernelspec": {
   "display_name": "Python 3",
   "language": "python",
   "name": "python3"
  },
  "language_info": {
   "codemirror_mode": {
    "name": "ipython",
    "version": 2
   },
   "file_extension": ".py",
   "mimetype": "text/x-python",
   "name": "python",
   "nbconvert_exporter": "python",
   "pygments_lexer": "ipython2",
   "version": "2.7.6"
  }
 },
 "nbformat": 4,
 "nbformat_minor": 0
}