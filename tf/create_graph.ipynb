{
 "cells": [
  {
   "cell_type": "code",
   "execution_count": null,
   "metadata": {
    "collapsed": true
   },
   "outputs": [],
   "source": [
    "import pandas as pd"
   ]
  },
  {
   "cell_type": "code",
   "execution_count": 22,
   "outputs": [],
   "source": [
    "# Import df\n",
    "votes_df = pd.read_csv(\"datasets/votacoesVotos-2021.csv\", delimiter=\";\")\n",
    "orientation_df = pd.read_csv(\"datasets/votacoesOrientacoes-2021.csv\", delimiter=\";\")\n",
    "votes_df = votes_df[['idVotacao', 'voto',\n",
    "                     'deputado_id', 'deputado_nome',\n",
    "                     'deputado_siglaPartido']]\n",
    "orientation_df = orientation_df[['idVotacao',\n",
    "                                 'siglaBancada',\n",
    "                                 'orientacao']]"
   ],
   "metadata": {
    "collapsed": false,
    "pycharm": {
     "name": "#%%\n"
    }
   }
  },
  {
   "cell_type": "code",
   "execution_count": 35,
   "outputs": [
    {
     "data": {
      "text/plain": "   idVotacao voto  deputado_id  deputado_nome   siglaBancada\n0  14666-138  Sim       204545      Alê Silva            PSL\n1  14666-138  Sim        73696    Angela Amin             PP\n2  14666-138  Sim       160512  Aureo Ribeiro  SOLIDARIEDADE\n3  14666-138  Sim       204374      Bia Kicis            PSL\n4  14666-138  Sim       141513    Bilac Pinto            DEM",
      "text/html": "<div>\n<style scoped>\n    .dataframe tbody tr th:only-of-type {\n        vertical-align: middle;\n    }\n\n    .dataframe tbody tr th {\n        vertical-align: top;\n    }\n\n    .dataframe thead th {\n        text-align: right;\n    }\n</style>\n<table border=\"1\" class=\"dataframe\">\n  <thead>\n    <tr style=\"text-align: right;\">\n      <th></th>\n      <th>idVotacao</th>\n      <th>voto</th>\n      <th>deputado_id</th>\n      <th>deputado_nome</th>\n      <th>siglaBancada</th>\n    </tr>\n  </thead>\n  <tbody>\n    <tr>\n      <th>0</th>\n      <td>14666-138</td>\n      <td>Sim</td>\n      <td>204545</td>\n      <td>Alê Silva</td>\n      <td>PSL</td>\n    </tr>\n    <tr>\n      <th>1</th>\n      <td>14666-138</td>\n      <td>Sim</td>\n      <td>73696</td>\n      <td>Angela Amin</td>\n      <td>PP</td>\n    </tr>\n    <tr>\n      <th>2</th>\n      <td>14666-138</td>\n      <td>Sim</td>\n      <td>160512</td>\n      <td>Aureo Ribeiro</td>\n      <td>SOLIDARIEDADE</td>\n    </tr>\n    <tr>\n      <th>3</th>\n      <td>14666-138</td>\n      <td>Sim</td>\n      <td>204374</td>\n      <td>Bia Kicis</td>\n      <td>PSL</td>\n    </tr>\n    <tr>\n      <th>4</th>\n      <td>14666-138</td>\n      <td>Sim</td>\n      <td>141513</td>\n      <td>Bilac Pinto</td>\n      <td>DEM</td>\n    </tr>\n  </tbody>\n</table>\n</div>"
     },
     "execution_count": 35,
     "metadata": {},
     "output_type": "execute_result"
    }
   ],
   "source": [
    "votes_df = votes_df.rename(columns={\"deputado_siglaPartido\": \"siglaBancada\"})\n",
    "votes_df.head(5)"
   ],
   "metadata": {
    "collapsed": false,
    "pycharm": {
     "name": "#%%\n"
    }
   }
  },
  {
   "cell_type": "code",
   "execution_count": 29,
   "outputs": [
    {
     "name": "stdout",
     "output_type": "stream",
     "text": [
      "<class 'pandas.core.frame.DataFrame'>\n",
      "Int64Index: 345 entries, 163 to 16242\n",
      "Data columns (total 3 columns):\n",
      " #   Column        Non-Null Count  Dtype \n",
      "---  ------        --------------  ----- \n",
      " 0   idVotacao     345 non-null    object\n",
      " 1   siglaBancada  345 non-null    object\n",
      " 2   orientacao    345 non-null    object\n",
      "dtypes: object(3)\n",
      "memory usage: 10.8+ KB\n"
     ]
    },
    {
     "data": {
      "text/plain": "      idVotacao siglaBancada orientacao\n163   2299545-8     Oposição   Liberado\n280  2273453-69      Minoria   Liberado\n290  2273453-69         GOV.   Liberado\n302  2273453-69     Oposição   Liberado\n318  2273453-64      Minoria   Liberado",
      "text/html": "<div>\n<style scoped>\n    .dataframe tbody tr th:only-of-type {\n        vertical-align: middle;\n    }\n\n    .dataframe tbody tr th {\n        vertical-align: top;\n    }\n\n    .dataframe thead th {\n        text-align: right;\n    }\n</style>\n<table border=\"1\" class=\"dataframe\">\n  <thead>\n    <tr style=\"text-align: right;\">\n      <th></th>\n      <th>idVotacao</th>\n      <th>siglaBancada</th>\n      <th>orientacao</th>\n    </tr>\n  </thead>\n  <tbody>\n    <tr>\n      <th>163</th>\n      <td>2299545-8</td>\n      <td>Oposição</td>\n      <td>Liberado</td>\n    </tr>\n    <tr>\n      <th>280</th>\n      <td>2273453-69</td>\n      <td>Minoria</td>\n      <td>Liberado</td>\n    </tr>\n    <tr>\n      <th>290</th>\n      <td>2273453-69</td>\n      <td>GOV.</td>\n      <td>Liberado</td>\n    </tr>\n    <tr>\n      <th>302</th>\n      <td>2273453-69</td>\n      <td>Oposição</td>\n      <td>Liberado</td>\n    </tr>\n    <tr>\n      <th>318</th>\n      <td>2273453-64</td>\n      <td>Minoria</td>\n      <td>Liberado</td>\n    </tr>\n  </tbody>\n</table>\n</div>"
     },
     "execution_count": 29,
     "metadata": {},
     "output_type": "execute_result"
    }
   ],
   "source": [
    "free_orientation_df = orientation_df.query('orientacao==\"Liberado\"')\n",
    "free_orientation_df.info()\n",
    "free_orientation_df.head(5)"
   ],
   "metadata": {
    "collapsed": false,
    "pycharm": {
     "name": "#%%\n"
    }
   }
  },
  {
   "cell_type": "code",
   "execution_count": 40,
   "outputs": [
    {
     "data": {
      "text/plain": "     idVotacao siglaBancada orientacao voto  deputado_id         deputado_nome\n0  2292163-167          PSD   Liberado  Não        74471        André de Paula\n1  2292163-167          PSD   Liberado  Não       160553         Antonio Brito\n2  2292163-167          PSD   Liberado  Sim       204504  Cezinha de Madureira\n3  2292163-167          PSD   Liberado  Sim       205476     Charles Fernandes\n4  2292163-167          PSD   Liberado  Sim       116379        Darci de Matos\n5  2292163-167          PSD   Liberado  Sim       160588         Diego Andrade\n6  2292163-167          PSD   Liberado  Não       178953        Expedito Netto\n7  2292163-167          PSD   Liberado  Sim       178969       Fábio Mitidieri\n8  2292163-167          PSD   Liberado  Não       160587            Fábio Trad\n9  2292163-167          PSD   Liberado  Sim       204392         Francisco Jr.",
      "text/html": "<div>\n<style scoped>\n    .dataframe tbody tr th:only-of-type {\n        vertical-align: middle;\n    }\n\n    .dataframe tbody tr th {\n        vertical-align: top;\n    }\n\n    .dataframe thead th {\n        text-align: right;\n    }\n</style>\n<table border=\"1\" class=\"dataframe\">\n  <thead>\n    <tr style=\"text-align: right;\">\n      <th></th>\n      <th>idVotacao</th>\n      <th>siglaBancada</th>\n      <th>orientacao</th>\n      <th>voto</th>\n      <th>deputado_id</th>\n      <th>deputado_nome</th>\n    </tr>\n  </thead>\n  <tbody>\n    <tr>\n      <th>0</th>\n      <td>2292163-167</td>\n      <td>PSD</td>\n      <td>Liberado</td>\n      <td>Não</td>\n      <td>74471</td>\n      <td>André de Paula</td>\n    </tr>\n    <tr>\n      <th>1</th>\n      <td>2292163-167</td>\n      <td>PSD</td>\n      <td>Liberado</td>\n      <td>Não</td>\n      <td>160553</td>\n      <td>Antonio Brito</td>\n    </tr>\n    <tr>\n      <th>2</th>\n      <td>2292163-167</td>\n      <td>PSD</td>\n      <td>Liberado</td>\n      <td>Sim</td>\n      <td>204504</td>\n      <td>Cezinha de Madureira</td>\n    </tr>\n    <tr>\n      <th>3</th>\n      <td>2292163-167</td>\n      <td>PSD</td>\n      <td>Liberado</td>\n      <td>Sim</td>\n      <td>205476</td>\n      <td>Charles Fernandes</td>\n    </tr>\n    <tr>\n      <th>4</th>\n      <td>2292163-167</td>\n      <td>PSD</td>\n      <td>Liberado</td>\n      <td>Sim</td>\n      <td>116379</td>\n      <td>Darci de Matos</td>\n    </tr>\n    <tr>\n      <th>5</th>\n      <td>2292163-167</td>\n      <td>PSD</td>\n      <td>Liberado</td>\n      <td>Sim</td>\n      <td>160588</td>\n      <td>Diego Andrade</td>\n    </tr>\n    <tr>\n      <th>6</th>\n      <td>2292163-167</td>\n      <td>PSD</td>\n      <td>Liberado</td>\n      <td>Não</td>\n      <td>178953</td>\n      <td>Expedito Netto</td>\n    </tr>\n    <tr>\n      <th>7</th>\n      <td>2292163-167</td>\n      <td>PSD</td>\n      <td>Liberado</td>\n      <td>Sim</td>\n      <td>178969</td>\n      <td>Fábio Mitidieri</td>\n    </tr>\n    <tr>\n      <th>8</th>\n      <td>2292163-167</td>\n      <td>PSD</td>\n      <td>Liberado</td>\n      <td>Não</td>\n      <td>160587</td>\n      <td>Fábio Trad</td>\n    </tr>\n    <tr>\n      <th>9</th>\n      <td>2292163-167</td>\n      <td>PSD</td>\n      <td>Liberado</td>\n      <td>Sim</td>\n      <td>204392</td>\n      <td>Francisco Jr.</td>\n    </tr>\n  </tbody>\n</table>\n</div>"
     },
     "execution_count": 40,
     "metadata": {},
     "output_type": "execute_result"
    }
   ],
   "source": [
    "vo_df = pd.merge(free_orientation_df,\n",
    "         votes_df,\n",
    "         on=[\"idVotacao\", \"siglaBancada\"],\n",
    "         how=\"inner\")\n",
    "vo_df.head(5)"
   ],
   "metadata": {
    "collapsed": false,
    "pycharm": {
     "name": "#%%\n"
    }
   }
  },
  {
   "cell_type": "code",
   "execution_count": 49,
   "outputs": [
    {
     "name": "stdout",
     "output_type": "stream",
     "text": [
      "<class 'pandas.core.frame.DataFrame'>\n",
      "MultiIndex: 447 entries, (62881, 'Danilo Forte') to (217480, 'Jones Moura')\n",
      "Data columns (total 4 columns):\n",
      " #   Column         Non-Null Count  Dtype \n",
      "---  ------         --------------  ----- \n",
      " 0   idVotacao      447 non-null    object\n",
      " 1   voto           447 non-null    object\n",
      " 2   deputado_id    447 non-null    bool  \n",
      " 3   deputado_nome  447 non-null    bool  \n",
      "dtypes: bool(2), object(2)\n",
      "memory usage: 16.7+ KB\n"
     ]
    }
   ],
   "source": [
    "grouped_vo_df = vo_df.groupby(by=[\"deputado_id\", \"deputado_nome\"]).agg({'idVotacao': lambda x: ','.join(x),\n",
    "                                                                        'voto': lambda x: ','.join(x),\n",
    "                                                                        'deputado_id': 'any',\n",
    "                                                                        'deputado_nome': 'any'})\n",
    "grouped_vo_df.info()\n"
   ],
   "metadata": {
    "collapsed": false,
    "pycharm": {
     "name": "#%%\n"
    }
   }
  }
 ],
 "metadata": {
  "kernelspec": {
   "display_name": "Python 3",
   "language": "python",
   "name": "python3"
  },
  "language_info": {
   "codemirror_mode": {
    "name": "ipython",
    "version": 2
   },
   "file_extension": ".py",
   "mimetype": "text/x-python",
   "name": "python",
   "nbconvert_exporter": "python",
   "pygments_lexer": "ipython2",
   "version": "2.7.6"
  }
 },
 "nbformat": 4,
 "nbformat_minor": 0
}