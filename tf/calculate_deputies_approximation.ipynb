{
 "cells": [
  {
   "cell_type": "code",
   "execution_count": 1,
   "metadata": {
    "collapsed": true
   },
   "outputs": [],
   "source": [
    "import json\n",
    "import pandas as pd\n",
    "import numpy as np\n",
    "import networkx as nx\n",
    "import matplotlib.pyplot as plt\n",
    "import networkx.algorithms.community as nx_comm"
   ]
  },
  {
   "cell_type": "code",
   "execution_count": 4,
   "outputs": [],
   "source": [
    "f_free = open('networks/sl_liberado.json')\n",
    "data_free = json.load(f_free)\n",
    "\n",
    "f_oriented = open('networks/sl_orientado.json')\n",
    "data_oriented = json.load(f_oriented)\n",
    "\n",
    "deputy_id_diff = dict()\n",
    "for node_1, approx in data_free.items():\n",
    "    value_for_node = 0\n",
    "    for node_2, value_l in approx.items():\n",
    "        value_o = data_oriented.get(node_1, {}).get(node_2, 0)\n",
    "        value = abs(value_l-value_o)\n",
    "        value_for_node += value\n",
    "    deputy_id_diff[node_1] = value_for_node\n",
    "\n",
    "f_free.close()\n",
    "f_oriented.close()"
   ],
   "metadata": {
    "collapsed": false,
    "pycharm": {
     "name": "#%%\n"
    }
   }
  }
 ],
 "metadata": {
  "kernelspec": {
   "display_name": "Python 3",
   "language": "python",
   "name": "python3"
  },
  "language_info": {
   "codemirror_mode": {
    "name": "ipython",
    "version": 2
   },
   "file_extension": ".py",
   "mimetype": "text/x-python",
   "name": "python",
   "nbconvert_exporter": "python",
   "pygments_lexer": "ipython2",
   "version": "2.7.6"
  }
 },
 "nbformat": 4,
 "nbformat_minor": 0
}