{
 "cells": [
  {
   "cell_type": "code",
   "execution_count": 6,
   "metadata": {
    "collapsed": true
   },
   "outputs": [],
   "source": [
    "import json\n",
    "import pandas as pd\n",
    "import numpy as np\n",
    "import networkx as nx\n",
    "import matplotlib.pyplot as plt\n",
    "import networkx.algorithms.community as nx_comm\n",
    "import itertools"
   ]
  },
  {
   "cell_type": "code",
   "execution_count": 7,
   "outputs": [],
   "source": [
    "concat_voted_df = list()\n",
    "for date in [2019, 2020, 2021]:\n",
    "    votes_df = pd.read_csv(f\"datasets/votacoesVotos-{date}.csv\", delimiter=\";\")\n",
    "    votes_df = votes_df[['idVotacao',\n",
    "                         'deputado_id', 'deputado_nome',\n",
    "                         'deputado_siglaPartido']]\n",
    "    votes_df = votes_df.rename(columns={\"deputado_siglaPartido\": \"siglaBancada\"})\n",
    "    concat_voted_df.append(votes_df)\n",
    "\n",
    "votes_gr_df = pd.concat(concat_voted_df, ignore_index=True)\n",
    "votes_grouped_df = votes_gr_df.groupby(by=[\"deputado_id\", \"deputado_nome\", \"siglaBancada\"]).agg({'idVotacao': lambda x: ','.join(x),}).reset_index()\n",
    "dep_sigla_dict = dict(zip(votes_grouped_df['deputado_id'], votes_grouped_df['siglaBancada']))\n",
    "\n"
   ],
   "metadata": {
    "collapsed": false,
    "pycharm": {
     "name": "#%%\n"
    }
   }
  },
  {
   "cell_type": "code",
   "execution_count": 8,
   "outputs": [],
   "source": [
    "# Distance between all the nodes comparing oriented and free\n",
    "f_free = open('networks/sl_liberado.json')\n",
    "data_free = json.load(f_free)\n",
    "\n",
    "f_oriented = open('networks/sl_orientado.json')\n",
    "data_oriented = json.load(f_oriented)\n",
    "\n",
    "deputy_id_diff = dict()\n",
    "for node_1, approx in data_free.items():\n",
    "    value_for_node = 0\n",
    "    for node_2, value_l in approx.items():\n",
    "        value_o = data_oriented.get(node_1, {}).get(node_2, 0)\n",
    "        value = abs(value_l-value_o)\n",
    "        value_for_node += value\n",
    "    deputy_id_diff[node_1] = value_for_node\n",
    "\n",
    "f_free.close()\n",
    "f_oriented.close()\n",
    "\n"
   ],
   "metadata": {
    "collapsed": false,
    "pycharm": {
     "name": "#%%\n"
    }
   }
  }
 ],
 "metadata": {
  "kernelspec": {
   "display_name": "Python 3",
   "language": "python",
   "name": "python3"
  },
  "language_info": {
   "codemirror_mode": {
    "name": "ipython",
    "version": 2
   },
   "file_extension": ".py",
   "mimetype": "text/x-python",
   "name": "python",
   "nbconvert_exporter": "python",
   "pygments_lexer": "ipython2",
   "version": "2.7.6"
  }
 },
 "nbformat": 4,
 "nbformat_minor": 0
}