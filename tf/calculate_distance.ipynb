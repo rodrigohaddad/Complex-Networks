{
 "cells": [
  {
   "cell_type": "code",
   "execution_count": null,
   "outputs": [],
   "source": [
    "import pandas as pd\n",
    "import networkx as nx\n",
    "import json"
   ],
   "metadata": {
    "collapsed": false,
    "pycharm": {
     "name": "#%%\n"
    }
   }
  },
  {
   "cell_type": "code",
   "execution_count": null,
   "metadata": {
    "collapsed": true
   },
   "outputs": [],
   "source": [
    "votes_df = pd.read_csv(f\"datasets/votacoesVotos-2021.csv\", delimiter=\";\")\n",
    "votes_df = votes_df[['idVotacao',\n",
    "                         'deputado_id', 'deputado_nome',\n",
    "                         'deputado_siglaPartido']]\n",
    "votes_df = votes_df.rename(columns={\"deputado_siglaPartido\": \"siglaBancada\"})\n",
    "\n",
    "votes_grouped_df = votes_df.groupby(by=[\"deputado_id\", \"deputado_nome\", \"siglaBancada\"]).agg({'idVotacao': lambda x: ','.join(x),}).reset_index()\n",
    "GO = nx.read_weighted_edgelist(\"networks/vote19-20-21-orientado.txt\", nodetype=int)\n",
    "GL = nx.read_weighted_edgelist(\"networks/vote19-20-21-liberado.txt\", nodetype=int)"
   ]
  },
  {
   "cell_type": "code",
   "execution_count": null,
   "outputs": [],
   "source": [
    "sl_o = dict(nx.all_pairs_dijkstra_path_length(GO))\n",
    "sl_l = dict(nx.all_pairs_dijkstra_path_length(GL))"
   ],
   "metadata": {
    "collapsed": false,
    "pycharm": {
     "name": "#%%\n"
    }
   }
  },
  {
   "cell_type": "code",
   "execution_count": null,
   "outputs": [],
   "source": [
    "with open(\"networks/sl_orientado.json\", 'w') as fp:\n",
    "    json.dump(sl_o, fp)\n",
    "with open(\"networks/sl_liberado.json\", 'w') as fp:\n",
    "    json.dump(sl_l, fp)\n"
   ],
   "metadata": {
    "collapsed": false,
    "pycharm": {
     "name": "#%%\n"
    }
   }
  }
 ],
 "metadata": {
  "kernelspec": {
   "display_name": "Python 3",
   "language": "python",
   "name": "python3"
  },
  "language_info": {
   "codemirror_mode": {
    "name": "ipython",
    "version": 2
   },
   "file_extension": ".py",
   "mimetype": "text/x-python",
   "name": "python",
   "nbconvert_exporter": "python",
   "pygments_lexer": "ipython2",
   "version": "2.7.6"
  }
 },
 "nbformat": 4,
 "nbformat_minor": 0
}